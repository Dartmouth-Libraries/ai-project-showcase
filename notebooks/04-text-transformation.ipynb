{
 "cells": [
  {
   "cell_type": "markdown",
   "metadata": {},
   "source": [
    "# Structured data extraction\n",
    "\n",
    "LLMs are capable of extracting structured data from raw, unstructured text. Here is an example excerpt from the history of [Baker-Berry Library on Wikipedia](https://en.wikipedia.org/wiki/Baker-Berry_Library):\n",
    "\n",
    ">The original, historic library building is the Fisher Ames Baker Memorial Library; it opened in 1928 with a collection of 240,000 volumes. The building was designed by Jens Fredrick Larson, modeled after Independence Hall in Philadelphia, and funded by a gift to Dartmouth College by George Fisher Baker in memory of his uncle, Fisher Ames Baker, Dartmouth class of 1859. The facility was expanded in 1941 and 1957–1958 and received its one millionth volume in 1970.\n",
    ">\n",
    ">In 1992, John Berry and the Baker family donated US $30 million for the construction of a new facility, the Berry Library designed by architect Robert Venturi, adjoining the Baker Library. The new complex, the Baker-Berry Library, opened in 2000 and was completed in 2002.[6] The Dartmouth College libraries presently hold over 2 million volumes in their collections.\n",
    "\n",
    "The text describes a sequence of events. The narrative style makes it hard to parse and extract structured data. However, we can use an LLM to transform the text into a structured data format, e.g. JSON."
   ]
  },
  {
   "cell_type": "code",
   "execution_count": 1,
   "metadata": {},
   "outputs": [
    {
     "data": {
      "text/plain": [
       "True"
      ]
     },
     "execution_count": 1,
     "metadata": {},
     "output_type": "execute_result"
    }
   ],
   "source": [
    "from dotenv import find_dotenv, load_dotenv\n",
    "\n",
    "load_dotenv(find_dotenv())"
   ]
  },
  {
   "cell_type": "code",
   "execution_count": 4,
   "metadata": {},
   "outputs": [
    {
     "name": "stdout",
     "output_type": "stream",
     "text": [
      "==================================\u001b[1m Ai Message \u001b[0m==================================\n",
      "\n",
      "[\n",
      "  {\"year\": 1928, \"event\": \"Fisher Ames Baker Memorial Library opened with a collection of 240,000 volumes\"},\n",
      "  {\"year\": 1941, \"event\": \"The library building was expanded\"},\n",
      "  {\"year\": 1957, \"event\": \"Library building expansion (1957-1958)\"},\n",
      "  {\"year\": 1970, \"event\": \"Received its one millionth volume\"},\n",
      "  {\"year\": 1992, \"event\": \"John Berry and the Baker family donated $30 million for a new library\"},\n",
      "  {\"year\": 2000, \"event\": \"Baker-Berry Library opened\"},\n",
      "  {\"year\": 2002, \"event\": \"Baker-Berry Library was completed\"}\n",
      "]\n"
     ]
    }
   ],
   "source": [
    "from langchain_dartmouth.llms import ChatDartmouth\n",
    "\n",
    "llm = ChatDartmouth(model_name=\"llama-3-1-8b-instruct\")\n",
    "\n",
    "\n",
    "unstructured_text = \"\"\"The original, historic library building is the Fisher Ames Baker Memorial Library; it opened in 1928 with a collection of 240,000 volumes. The building was designed by Jens Fredrick Larson, modeled after Independence Hall in Philadelphia, and funded by a gift to Dartmouth College by George Fisher Baker in memory of his uncle, Fisher Ames Baker, Dartmouth class of 1859. The facility was expanded in 1941 and 1957–1958 and received its one millionth volume in 1970.\n",
    "\n",
    "In 1992, John Berry and the Baker family donated US $30 million for the construction of a new facility, the Berry Library designed by architect Robert Venturi, adjoining the Baker Library. The new complex, the Baker-Berry Library, opened in 2000 and was completed in 2002.[6] The Dartmouth College libraries presently hold over 2 million volumes in their collections.\"\"\"\n",
    "\n",
    "prompt = (\n",
    "    \"Extract a succinct timeline of events directly related the Library from the following text. Return the timeline as a list of dictionaries, where each dictionary has two keys: 'year' and 'event'. Format your output in JSON format. The text:\\n\\n\"\n",
    "    + unstructured_text\n",
    ")\n",
    "\n",
    "response = llm.invoke(prompt)\n",
    "\n",
    "response.pretty_print()"
   ]
  },
  {
   "cell_type": "markdown",
   "metadata": {},
   "source": [
    "We can take this one step further and process the raw output of the LLM, which is still just a string, into actual Python objects. The LangChain framework offers a useful output parser for this:"
   ]
  },
  {
   "cell_type": "code",
   "execution_count": 6,
   "metadata": {},
   "outputs": [
    {
     "name": "stdout",
     "output_type": "stream",
     "text": [
      "{'year': 1928, 'event': 'Fisher Ames Baker Memorial Library opened with a collection of 240,000 volumes'}\n",
      "----------\n",
      "{'year': 1941, 'event': 'The library building was expanded'}\n",
      "----------\n",
      "{'year': 1957, 'event': 'Library building expansion (1957-1958)'}\n",
      "----------\n",
      "{'year': 1970, 'event': 'Received its one millionth volume'}\n",
      "----------\n",
      "{'year': 1992, 'event': 'John Berry and the Baker family donated $30 million for a new library'}\n",
      "----------\n",
      "{'year': 2000, 'event': 'Baker-Berry Library opened'}\n",
      "----------\n",
      "{'year': 2002, 'event': 'Baker-Berry Library was completed'}\n",
      "----------\n"
     ]
    }
   ],
   "source": [
    "from langchain_core.output_parsers import JsonOutputParser\n",
    "\n",
    "parser = JsonOutputParser()\n",
    "\n",
    "timeline = parser.invoke(response)\n",
    "\n",
    "for event in timeline:\n",
    "    print(event)\n",
    "    print(\"-\" * 10)"
   ]
  }
 ],
 "metadata": {
  "kernelspec": {
   "display_name": ".venv",
   "language": "python",
   "name": "python3"
  },
  "language_info": {
   "codemirror_mode": {
    "name": "ipython",
    "version": 3
   },
   "file_extension": ".py",
   "mimetype": "text/x-python",
   "name": "python",
   "nbconvert_exporter": "python",
   "pygments_lexer": "ipython3",
   "version": "3.12.5"
  }
 },
 "nbformat": 4,
 "nbformat_minor": 2
}
