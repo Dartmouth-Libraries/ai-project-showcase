{
 "cells": [
  {
   "cell_type": "markdown",
   "metadata": {},
   "source": [
    "# System message\n",
    "\n",
    "In addition to messages from the human and the AI, there is a third kind of message called _system message_. The system message is a way to give context to the conversation and provide the model with instructions that underpin the entire conversation, such as a particular persona. Let's explore this!"
   ]
  },
  {
   "cell_type": "code",
   "execution_count": null,
   "metadata": {},
   "outputs": [],
   "source": [
    "from dotenv import find_dotenv, load_dotenv\n",
    "\n",
    "load_dotenv(find_dotenv())"
   ]
  },
  {
   "cell_type": "markdown",
   "metadata": {},
   "source": [
    "Without a system message, the model goes with its default \"helpful assistant\"-style persona:"
   ]
  },
  {
   "cell_type": "code",
   "execution_count": null,
   "metadata": {},
   "outputs": [],
   "source": [
    "from langchain_dartmouth.llms import ChatDartmouth\n",
    "\n",
    "llm = ChatDartmouth(model_name=\"llama-3-1-8b-instruct\")\n",
    "response = llm.invoke(\"I have a lot of stuff to do and don't know where to start!\")\n",
    "response.pretty_print()"
   ]
  },
  {
   "cell_type": "markdown",
   "metadata": {},
   "source": [
    "We can override the persona and give extra contextext by providing a system message as the first message in a conversation:"
   ]
  },
  {
   "cell_type": "code",
   "execution_count": null,
   "metadata": {},
   "outputs": [],
   "source": [
    "conversation = [\n",
    "    (\n",
    "        \"system\",\n",
    "        \"You are the children's television host Mr. Rogers talking to an 8 year old child.\",\n",
    "    )\n",
    "]\n",
    "conversation.append(\n",
    "    (\"human\", \"I have a lot of stuff to do and don't know where to start!\")\n",
    ")\n",
    "\n",
    "response = llm.invoke(conversation)\n",
    "response.pretty_print()"
   ]
  }
 ],
 "metadata": {
  "kernelspec": {
   "display_name": ".venv",
   "language": "python",
   "name": "python3"
  },
  "language_info": {
   "codemirror_mode": {
    "name": "ipython",
    "version": 3
   },
   "file_extension": ".py",
   "mimetype": "text/x-python",
   "name": "python",
   "nbconvert_exporter": "python",
   "pygments_lexer": "ipython3",
   "version": "3.12.5"
  }
 },
 "nbformat": 4,
 "nbformat_minor": 2
}
